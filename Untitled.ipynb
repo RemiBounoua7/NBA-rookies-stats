{
 "cells": [
  {
   "cell_type": "code",
   "execution_count": 8,
   "id": "b964162d",
   "metadata": {},
   "outputs": [
    {
     "name": "stdout",
     "output_type": "stream",
     "text": [
      "       TEAM_ID               TEAM_NAME  GP   W   L  W_PCT     MIN  \\\n",
      "16  1610612750  Minnesota Timberwolves  66  26  40  0.394  3188.0   \n",
      "\n",
      "    E_OFF_RATING  OFF_RATING  E_DEF_RATING  ...  AST_TO_RANK  AST_RATIO_RANK  \\\n",
      "16         101.5       103.1         103.6  ...           25              25   \n",
      "\n",
      "    OREB_PCT_RANK  DREB_PCT_RANK  REB_PCT_RANK  TM_TOV_PCT_RANK  EFG_PCT_RANK  \\\n",
      "16             13             14            15               17            20   \n",
      "\n",
      "    TS_PCT_RANK  PACE_RANK  PIE_RANK  \n",
      "16           18          4        21  \n",
      "\n",
      "[1 rows x 46 columns]\n"
     ]
    }
   ],
   "source": [
    "from nba_api.stats.endpoints import leaguedashteamstats\n",
    "from nba_api.stats.static import teams\n",
    "\n",
    "\n",
    "# Filter for the 2013-14 season\n",
    "\n",
    "# Fetch advanced stats for 2013-14 season\n",
    "team_advanced_stats = leaguedashteamstats.LeagueDashTeamStats(\n",
    "    season='2011-12',\n",
    "    season_type_all_star='Regular Season',\n",
    "    measure_type_detailed_defense='Advanced'\n",
    ").get_data_frames()[0]\n",
    "\n",
    "# Filter for the Timberwolves\n",
    "wolves_stats = team_advanced_stats[team_advanced_stats['TEAM_NAME'] == 'Minnesota Timberwolves']\n",
    "print(wolves_stats)\n",
    "\n",
    "\n"
   ]
  },
  {
   "cell_type": "code",
   "execution_count": null,
   "id": "902fdf36",
   "metadata": {},
   "outputs": [],
   "source": []
  }
 ],
 "metadata": {
  "kernelspec": {
   "display_name": "Python 3 (ipykernel)",
   "language": "python",
   "name": "python3"
  },
  "language_info": {
   "codemirror_mode": {
    "name": "ipython",
    "version": 3
   },
   "file_extension": ".py",
   "mimetype": "text/x-python",
   "name": "python",
   "nbconvert_exporter": "python",
   "pygments_lexer": "ipython3",
   "version": "3.9.7"
  }
 },
 "nbformat": 4,
 "nbformat_minor": 5
}
